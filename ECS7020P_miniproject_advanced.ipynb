{
  "nbformat": 4,
  "nbformat_minor": 0,
  "metadata": {
    "colab": {
      "name": "ECS7020P_miniproject_advanced.ipynb",
      "provenance": [],
      "collapsed_sections": []
    },
    "kernelspec": {
      "name": "python3",
      "display_name": "Python 3"
    },
    "language_info": {
      "name": "python"
    }
  },
  "cells": [
    {
      "cell_type": "markdown",
      "source": [
        "#1 Author\n",
        "\n",
        "Student Name: Pradnya Gade\n",
        "\n",
        "Student ID: 210059058"
      ],
      "metadata": {
        "id": "D49JWiPV4NM4"
      }
    },
    {
      "cell_type": "markdown",
      "source": [
        "# 2 Problem formulation\n",
        "\n",
        "Problem :\n",
        "Using the MLEnd Hums and Whistles dataset, build a machine learning pipeline that takes all the eight songs as input audio segment and predicts its song label.\n",
        "\n",
        "Two approaches:\n",
        "1. Supervised :\n",
        "As a part of this problem, we are provided with the information such as the Participant id ,interpretation type (hum/whistle), interpretation number(1-4) for each participant and the name of song(Harry/StarWars/Panther/Rain/Hakuna/Frozen/Mamma/Showman) . Using this information, we have to predict the song label.\n",
        "\n",
        "2. Unsupervised:\n",
        "As a part of this problem, only the files are provided with no labels and the song is predicted.\n",
        "\n"
      ],
      "metadata": {
        "id": "IxW0bwWV4YW9"
      }
    },
    {
      "cell_type": "markdown",
      "source": [
        "# 3 Machine Learning pipeline\n",
        "\n",
        "I would like to define my pipeline for the supervised approach as:\n",
        "\n",
        "Pipeline consists of below mentioned stages\n",
        "\n",
        "1. Create new features columns\n",
        "2. Perform required data preprocessing and feature scaling\n",
        "3. Build a model to predict the song\n",
        "\n",
        "For the unsupervised approach, the labels are not taken into consideration only the features form different clusters to predict the song.\n",
        "\n",
        "Loading useful Python libraries and mounting my personal Google Drive storage system"
      ],
      "metadata": {
        "id": "lsn80YP85u-3"
      }
    },
    {
      "cell_type": "code",
      "execution_count": 12,
      "metadata": {
        "colab": {
          "base_uri": "https://localhost:8080/"
        },
        "id": "qOrka_UFMbRH",
        "outputId": "8e41c69f-ec19-4b58-d4da-174afa567a93"
      },
      "outputs": [
        {
          "output_type": "stream",
          "name": "stdout",
          "text": [
            "Drive already mounted at /content/drive; to attempt to forcibly remount, call drive.mount(\"/content/drive\", force_remount=True).\n"
          ]
        }
      ],
      "source": [
        "from google.colab import drive\n",
        "\n",
        "import numpy as np\n",
        "import pandas as pd\n",
        "import matplotlib.pyplot as plt\n",
        "\n",
        "import os, sys, re, pickle, glob\n",
        "import urllib.request\n",
        "import zipfile\n",
        "\n",
        "import IPython.display as ipd\n",
        "from tqdm import tqdm\n",
        "import librosa\n",
        "\n",
        "from sklearn import preprocessing\n",
        "\n",
        "drive.mount('/content/drive')"
      ]
    },
    {
      "cell_type": "markdown",
      "source": [
        "# 4 Transformation stage\n",
        "\n",
        "At this stage I have listed down the set of features and necessary preprocessing steps (for each of them) to be used in the machine learning pipeline.\n",
        "\n",
        "1.   Pitch\n",
        "2.   Pitch mean.\n",
        "3.   Pitch standard deviation.\n",
        "4.   Fraction of voiced region.\n",
        "5.   Zero crossings rate : It can be defined as the number of times the signal changes value, from positive to negative and vice versa, divided by the length of the frame.It can be defined as a measure of the noisiness of a signal.This spectral characteristic showcases higher values in the case of noisy signals.\n",
        "6.   Tempo : Tempo is the speed or pace at which a exhibit of music is played. The tempo can have any quantity of beats per minute. The lower the number of beats per minute, the slower the tempo. Inversely, the higher the number of beats per minute, the tempo will be faster. The portion of the audio which do not showcase salient harmonic progression may be frequently better characterized using tempo patterns.\n",
        "\n",
        "For all the files these ablove six features are extracted with the help of getPitch and getXy function defined below."
      ],
      "metadata": {
        "id": "qdrrAT9s79px"
      }
    },
    {
      "cell_type": "code",
      "source": [
        "def getPitch(x,fs,winLen=0.02):\n",
        "  #winLen = 0.02 \n",
        "  p = winLen*fs\n",
        "  frame_length = int(2**int(p-1).bit_length())\n",
        "  hop_length = frame_length//2\n",
        "  f0, voiced_flag, voiced_probs = librosa.pyin(y=x, fmin=80, fmax=450, sr=fs,\n",
        "                                                 frame_length=frame_length,hop_length=hop_length)\n",
        "  return f0,voiced_flag"
      ],
      "metadata": {
        "id": "UoW-5DJrOdEh"
      },
      "execution_count": 19,
      "outputs": []
    },
    {
      "cell_type": "code",
      "source": [
        "def getfeatures(files,labels_file, scale_audio=False, onlySingleDigit=False):\n",
        "  X=[]\n",
        "  y=[]\n",
        "  for file in tqdm(files):\n",
        "    \n",
        "    fs = None # if None, fs would be 22050\n",
        "    x, fs = librosa.load(file,sr=fs)\n",
        "    if scale_audio: x = x/np.max(np.abs(x))\n",
        "    f0, voiced_flag = getPitch(x,fs,winLen=0.02)\n",
        "\n",
        "    power = np.sum(x**2)/len(x)\n",
        "    pitch_mean = np.nanmean(f0) if np.mean(np.isnan(f0))<1 else 0\n",
        "    pitch_std  = np.nanstd(f0) if np.mean(np.isnan(f0))<1 else 0\n",
        "    voiced_fr = np.mean(voiced_flag)\n",
        "    zero_crossings = librosa.zero_crossings(x[9000:9100], pad=False)\n",
        "    onset_env = librosa.onset.onset_strength(x, sr=fs)\n",
        "    tempo = librosa.beat.tempo(onset_envelope=onset_env, sr=fs)\n",
        "\n",
        "\n",
        "    xi = [power,pitch_mean,pitch_std,voiced_fr,sum(zero_crossings),tempo[0]]\n",
        "    fileID = preProcess(file).split('/')[-1].strip().lower()\n",
        "    yi = labels_file.loc[fileID]['song']\n",
        "\n",
        "    X.append(xi)\n",
        "    y.append(yi)\n",
        "\n",
        "  return np.array(X),np.array(y)"
      ],
      "metadata": {
        "id": "hBcCRvE_OfNR"
      },
      "execution_count": 20,
      "outputs": []
    },
    {
      "cell_type": "markdown",
      "source": [
        "y will values as for each label [\"Frozen\":0, \"Hakuna\":1, \"Mamma\":2, \"Panther\":3,Potter\":4, \"Rain\":5, \"Showman\":6, \"Starwars\":7]\n",
        "\n",
        "Extracting all the six features for the files:"
      ],
      "metadata": {
        "id": "nCbuAoGR8NQz"
      }
    },
    {
      "cell_type": "code",
      "source": [
        "X,y = getfeatures(files, labels_file=MLENDHW_df, scale_audio=True, onlySingleDigit=True)"
      ],
      "metadata": {
        "colab": {
          "base_uri": "https://localhost:8080/"
        },
        "id": "2ABoNAo7Ol51",
        "outputId": "cde72e77-1ec7-4102-90c7-a8135cacbee6"
      },
      "execution_count": 21,
      "outputs": [
        {
          "output_type": "stream",
          "name": "stderr",
          "text": [
            "100%|██████████| 1673/1673 [1:36:27<00:00,  3.46s/it]\n"
          ]
        }
      ]
    },
    {
      "cell_type": "markdown",
      "source": [
        "Normalizing the data:\n",
        "Scaling and translating each feature individually such that it is in the range of (-1,1). "
      ],
      "metadata": {
        "id": "DK2dLz6b9cTc"
      }
    },
    {
      "cell_type": "code",
      "source": [
        "import sklearn\n",
        "min_max_scaler = sklearn.preprocessing.MinMaxScaler(feature_range=(-1, 1))\n",
        "features_scaled = min_max_scaler.fit_transform(X)"
      ],
      "metadata": {
        "id": "sg_EqdCKo_Lt"
      },
      "execution_count": 22,
      "outputs": []
    },
    {
      "cell_type": "markdown",
      "source": [
        "Splitting the files into training, validation and testing.\n",
        "I will train all the models on the training data and check it’s performance on the validation data. "
      ],
      "metadata": {
        "id": "Fw-E45z29s15"
      }
    },
    {
      "cell_type": "code",
      "source": [
        "from sklearn.model_selection import train_test_split\n",
        "\n",
        "X_train, X_val, y_train, y_val = train_test_split(features_scaled,y,test_size=0.3,random_state=42)\n",
        "X_train.shape, X_val.shape, y_train.shape, y_val.shape"
      ],
      "metadata": {
        "colab": {
          "base_uri": "https://localhost:8080/"
        },
        "id": "R4-z3DVDWQ1d",
        "outputId": "25d73d4b-ab54-4815-a322-4744713c6d1e"
      },
      "execution_count": 23,
      "outputs": [
        {
          "output_type": "execute_result",
          "data": {
            "text/plain": [
              "((1171, 6), (502, 6), (1171,), (502,))"
            ]
          },
          "metadata": {},
          "execution_count": 23
        }
      ]
    },
    {
      "cell_type": "markdown",
      "source": [
        "# 5 Modelling\n",
        "\n",
        "ML supervised models implemented : \n",
        "\n",
        "1. Logistic Regression \n",
        "2. Naive Bayes\n",
        "3. Random Forrest\n",
        "4. Support Vector Machine\n",
        "\n",
        "Unsupervised model implemented:\n",
        "1. K means "
      ],
      "metadata": {
        "id": "sZyZJJSJ9-Fy"
      }
    },
    {
      "cell_type": "markdown",
      "source": [
        "# 6 Methodology\n",
        "\n",
        "Train and validation sets are ready. Let us train all the models on training data and check it’s performance on the validation data.\n",
        "Calculated training and validation accuracy for all the models.Comparing the validation accuracy to arrive at the highest performing model."
      ],
      "metadata": {
        "id": "9BKsa-b5-PsE"
      }
    },
    {
      "cell_type": "code",
      "source": [
        "#LogisticRegression\n",
        "from sklearn.linear_model import LogisticRegression\n",
        "\n",
        "# Here we fit our logistic regression classfier to the training dataset \n",
        "log_reg_classifier = LogisticRegression()\n",
        "log_reg_classifier.fit(X_train,y_train)\n",
        "\n",
        "yt_p = log_reg_classifier.predict(X_train)\n",
        "yv_p = log_reg_classifier.predict(X_val)\n",
        "\n",
        "print('Training Accuracy',log_reg_classifier.score(X_train,y_train))\n",
        "print('Validation  Accuracy', log_reg_classifier.score(X_val,y_val))\n"
      ],
      "metadata": {
        "colab": {
          "base_uri": "https://localhost:8080/"
        },
        "id": "jbGyPyGYtb7p",
        "outputId": "e6bfb996-939a-4830-ea6a-3d1aa3bd40d7"
      },
      "execution_count": 24,
      "outputs": [
        {
          "output_type": "stream",
          "name": "stdout",
          "text": [
            "Training Accuracy 0.3296327924850555\n",
            "Validation  Accuracy 0.2868525896414343\n"
          ]
        }
      ]
    },
    {
      "cell_type": "code",
      "source": [
        "#Naive Bayes\n",
        "from sklearn.naive_bayes import GaussianNB\n",
        "\n",
        "gnb_A = GaussianNB()\n",
        "gnb_A.fit(X_train,y_train)\n",
        "\n",
        "yt_p = gnb_A.predict(X_train)\n",
        "yv_p = gnb_A.predict(X_val)\n",
        "\n",
        "print('Training Accuracy',gnb_A.score(X_train,y_train))\n",
        "print('Validation  Accuracy',gnb_A.score(X_val,y_val))"
      ],
      "metadata": {
        "colab": {
          "base_uri": "https://localhost:8080/"
        },
        "id": "6yEu1q5b-ZoG",
        "outputId": "94b143ef-19a1-43d6-d802-fb9e860f60a4"
      },
      "execution_count": 25,
      "outputs": [
        {
          "output_type": "stream",
          "name": "stdout",
          "text": [
            "Training Accuracy 0.3552519214346712\n",
            "Validation  Accuracy 0.3466135458167331\n"
          ]
        }
      ]
    },
    {
      "cell_type": "code",
      "source": [
        "#SVM\n",
        "from sklearn import svm\n",
        "\n",
        "model  = svm.SVC(C=1)\n",
        "model.fit(X_train,y_train)\n",
        "\n",
        "yt_p = model.predict(X_train)\n",
        "yv_p = model.predict(X_val)\n",
        "\n",
        "print('Training Accuracy', np.mean(yt_p==y_train))\n",
        "print('Validation  Accuracy', np.mean(yv_p==y_val))\n",
        "print('The support vectors are', model.support_vectors_.shape)"
      ],
      "metadata": {
        "colab": {
          "base_uri": "https://localhost:8080/"
        },
        "id": "qwwk0vQX-fpX",
        "outputId": "1da88da9-16ed-4541-f1db-5fd5318390a5"
      },
      "execution_count": 27,
      "outputs": [
        {
          "output_type": "stream",
          "name": "stdout",
          "text": [
            "Training Accuracy 0.41246797608881297\n",
            "Validation  Accuracy 0.34860557768924305\n",
            "The support vectors are (1161, 6)\n"
          ]
        }
      ]
    },
    {
      "cell_type": "markdown",
      "source": [
        "Trying out different values for the hyperparamater."
      ],
      "metadata": {
        "id": "Gs3u_4hz-m16"
      }
    },
    {
      "cell_type": "code",
      "source": [
        "#SVM with C=4\n",
        "from sklearn import svm\n",
        "\n",
        "model  = svm.SVC(C=4)\n",
        "model.fit(X_train,y_train)\n",
        "\n",
        "yt_p = model.predict(X_train)\n",
        "yv_p = model.predict(X_val)\n",
        "\n",
        "print('Training Accuracy', np.mean(yt_p==y_train))\n",
        "print('Validation  Accuracy', np.mean(yv_p==y_val))\n",
        "print('The support vectors are', model.support_vectors_.shape)"
      ],
      "metadata": {
        "colab": {
          "base_uri": "https://localhost:8080/"
        },
        "id": "wJEv2vM_-icM",
        "outputId": "80744447-76b3-4070-e86e-fb5898f012f0"
      },
      "execution_count": 28,
      "outputs": [
        {
          "output_type": "stream",
          "name": "stdout",
          "text": [
            "Training Accuracy 0.46199829205807\n",
            "Validation  Accuracy 0.3665338645418327\n",
            "The support vectors are (1131, 6)\n"
          ]
        }
      ]
    },
    {
      "cell_type": "code",
      "source": [
        "#SVM with C=2\n",
        "from sklearn import svm\n",
        "\n",
        "model  = svm.SVC(C=2)\n",
        "model.fit(X_train,y_train)\n",
        "\n",
        "yt_p = model.predict(X_train)\n",
        "yv_p = model.predict(X_val)\n",
        "\n",
        "print('Training Accuracy', np.mean(yt_p==y_train))\n",
        "print('Validation  Accuracy', np.mean(yv_p==y_val))\n",
        "print('The support vectors are', model.support_vectors_.shape)"
      ],
      "metadata": {
        "colab": {
          "base_uri": "https://localhost:8080/"
        },
        "id": "lkOtYpwl-qaM",
        "outputId": "a4bf170e-6ae7-4860-afc8-97497c51bbcf"
      },
      "execution_count": 29,
      "outputs": [
        {
          "output_type": "stream",
          "name": "stdout",
          "text": [
            "Training Accuracy 0.4363791631084543\n",
            "Validation  Accuracy 0.37250996015936255\n",
            "The support vectors are (1149, 6)\n"
          ]
        }
      ]
    },
    {
      "cell_type": "markdown",
      "source": [
        "The best validation accuracy is obtained for Random Forrest algorithm in comparision with all the other models"
      ],
      "metadata": {
        "id": "pCop1o8-NgzH"
      }
    },
    {
      "cell_type": "code",
      "source": [
        "#Random Forrest\n",
        "\n",
        "from sklearn.ensemble import RandomForestClassifier\n",
        "\n",
        "clf = RandomForestClassifier(max_depth=2, random_state=0)\n",
        "clf.fit(X_train,y_train)\n",
        "\n",
        "yt_p = clf.predict(X_train)\n",
        "yv_p = clf.predict(X_val)\n",
        "\n",
        "print('Training Accuracy',clf.score(X_train,y_train))\n",
        "print('Validation  Accuracy',clf.score(X_val,y_val))"
      ],
      "metadata": {
        "colab": {
          "base_uri": "https://localhost:8080/"
        },
        "id": "nCBi8EVC-cs1",
        "outputId": "dc266ff4-47ae-475c-e4c1-cfe0d036a63d"
      },
      "execution_count": 26,
      "outputs": [
        {
          "output_type": "stream",
          "name": "stdout",
          "text": [
            "Training Accuracy 0.4022203245089667\n",
            "Validation  Accuracy 0.37649402390438247\n"
          ]
        }
      ]
    },
    {
      "cell_type": "code",
      "source": [
        "from sklearn.metrics import classification_report\n",
        "print(classification_report(yv_p,y_val))"
      ],
      "metadata": {
        "colab": {
          "base_uri": "https://localhost:8080/"
        },
        "id": "pk1Ky7qX-vxY",
        "outputId": "27b29e46-780b-42b6-d334-dd4f9b425054"
      },
      "execution_count": 30,
      "outputs": [
        {
          "output_type": "stream",
          "name": "stdout",
          "text": [
            "              precision    recall  f1-score   support\n",
            "\n",
            "           0       0.51      0.30      0.38        90\n",
            "           1       0.35      0.38      0.36        48\n",
            "           2       0.73      0.50      0.60       101\n",
            "           3       0.39      0.38      0.38        74\n",
            "           4       0.12      0.22      0.15        27\n",
            "           5       0.21      0.35      0.26        43\n",
            "           6       0.19      0.27      0.22        45\n",
            "           7       0.44      0.41      0.42        74\n",
            "\n",
            "    accuracy                           0.37       502\n",
            "   macro avg       0.37      0.35      0.35       502\n",
            "weighted avg       0.43      0.37      0.39       502\n",
            "\n"
          ]
        }
      ]
    },
    {
      "cell_type": "code",
      "source": [
        "from sklearn.metrics import confusion_matrix\n",
        "\n",
        "def confusion_matrix_heatmap(y_validation, preds):\n",
        "    \"\"\"Function to plot a confusion matrix\"\"\"\n",
        "    labels = list(set(y_validation))   # get the labels in the y_test\n",
        "   \n",
        "    cm = confusion_matrix(y_validation, preds) #, labels\n",
        "    fig = plt.figure(figsize=(10,10))\n",
        "    ax = fig.add_subplot(111)\n",
        "    cax = ax.matshow(cm)\n",
        "    plt.title('Confusion matrix of the classifier')\n",
        "    fig.colorbar(cax)\n",
        "    ax.set_xticks(np.arange(len(labels)))\n",
        "    ax.set_yticks(np.arange(len(labels)))\n",
        "    ax.set_xticklabels( labels, rotation=15)\n",
        "    ax.set_yticklabels( labels)\n",
        "\n",
        "    for i in range(len(cm)):\n",
        "        for j in range(len(cm)):\n",
        "            text = ax.text(j, i, cm[i, j],\n",
        "                           ha=\"center\", va=\"center\", color=\"w\")\n",
        "\n",
        "    plt.xlabel('Predicted')\n",
        "    plt.ylabel('True')\n",
        "   \n",
        "    plt.show()"
      ],
      "metadata": {
        "id": "PMkIcU4t-ydK"
      },
      "execution_count": 31,
      "outputs": []
    },
    {
      "cell_type": "code",
      "source": [
        "confusion_matrix_heatmap(yv_p,y_val)"
      ],
      "metadata": {
        "colab": {
          "base_uri": "https://localhost:8080/",
          "height": 580
        },
        "id": "5DgPNiHB-1ac",
        "outputId": "6394a8ba-9670-4f14-a29d-3417abbb59a2"
      },
      "execution_count": 32,
      "outputs": [
        {
          "output_type": "display_data",
          "data": {
            "image/png": "[encoded data removed]",
            "text/plain": [
              "<Figure size 720x720 with 2 Axes>"
            ]
          },
          "metadata": {
            "needs_background": "light"
          }
        }
      ]
    },
    {
      "cell_type": "markdown",
      "source": [
        "The most correctly predicted song label is Mamma, its predicted correctly 51 times.\n",
        "The most incorrectly predicted song label is Frozen, it is incorrectly predicted as Rain"
      ],
      "metadata": {
        "id": "y3PI8FdsN2f1"
      }
    },
    {
      "cell_type": "markdown",
      "source": [
        "Clustering:"
      ],
      "metadata": {
        "id": "nbdR2UYXnIJL"
      }
    },
    {
      "cell_type": "markdown",
      "source": [
        "Creating eight clusters using K means, using only the scaled features of the files."
      ],
      "metadata": {
        "id": "ZGaMamu2OaOl"
      }
    },
    {
      "cell_type": "code",
      "source": [
        "from sklearn.cluster import KMeans\n",
        "\n",
        "kmeans = KMeans(n_clusters=8)\n",
        "yi = kmeans.fit_predict(features_scaled)\n",
        "yi\n"
      ],
      "metadata": {
        "colab": {
          "base_uri": "https://localhost:8080/"
        },
        "id": "GqiGGdCTRX0U",
        "outputId": "a7c8b974-fc17-4ebe-e695-cd1042224cd4"
      },
      "execution_count": 63,
      "outputs": [
        {
          "output_type": "execute_result",
          "data": {
            "text/plain": [
              "array([1, 3, 1, ..., 1, 4, 4], dtype=int32)"
            ]
          },
          "metadata": {},
          "execution_count": 63
        }
      ]
    },
    {
      "cell_type": "markdown",
      "source": [
        "8 clusters are incorrectly formed(not dependent on the song labels)"
      ],
      "metadata": {
        "id": "y3Xz_T5aU_d1"
      }
    },
    {
      "cell_type": "code",
      "source": [
        "temp = MLENDHW_df.head(1673)\n",
        "temp['cluster'] = yi\n",
        "temp.head(250)\n"
      ],
      "metadata": {
        "colab": {
          "base_uri": "https://localhost:8080/",
          "height": 552
        },
        "id": "o1mJ7vOOTr4s",
        "outputId": "d0372d39-374a-41a2-9b70-5fcbf1352834"
      },
      "execution_count": 52,
      "outputs": [
        {
          "output_type": "stream",
          "name": "stderr",
          "text": [
            "/usr/local/lib/python3.7/dist-packages/ipykernel_launcher.py:2: SettingWithCopyWarning: \n",
            "A value is trying to be set on a copy of a slice from a DataFrame.\n",
            "Try using .loc[row_indexer,col_indexer] = value instead\n",
            "\n",
            "See the caveats in the documentation: https://pandas.pydata.org/pandas-docs/stable/user_guide/indexing.html#returning-a-view-versus-a-copy\n",
            "  \n"
          ]
        },
        {
          "output_type": "execute_result",
          "data": {
            "text/html": [
              "<div>\n",
              "<style scoped>\n",
              "    .dataframe tbody tr th:only-of-type {\n",
              "        vertical-align: middle;\n",
              "    }\n",
              "\n",
              "    .dataframe tbody tr th {\n",
              "        vertical-align: top;\n",
              "    }\n",
              "\n",
              "    .dataframe thead th {\n",
              "        text-align: right;\n",
              "    }\n",
              "</style>\n",
              "<table border=\"1\" class=\"dataframe\">\n",
              "  <thead>\n",
              "    <tr style=\"text-align: right;\">\n",
              "      <th></th>\n",
              "      <th>participant</th>\n",
              "      <th>interpretation</th>\n",
              "      <th>interpretation number</th>\n",
              "      <th>song</th>\n",
              "      <th>cluster</th>\n",
              "    </tr>\n",
              "    <tr>\n",
              "      <th>file_id</th>\n",
              "      <th></th>\n",
              "      <th></th>\n",
              "      <th></th>\n",
              "      <th></th>\n",
              "      <th></th>\n",
              "    </tr>\n",
              "  </thead>\n",
              "  <tbody>\n",
              "    <tr>\n",
              "      <th>s103_whistle_2_potter.wav</th>\n",
              "      <td>S103</td>\n",
              "      <td>whistle</td>\n",
              "      <td>2</td>\n",
              "      <td>4</td>\n",
              "      <td>6</td>\n",
              "    </tr>\n",
              "    <tr>\n",
              "      <th>s103_hum_2_potter.wav</th>\n",
              "      <td>S103</td>\n",
              "      <td>hum</td>\n",
              "      <td>2</td>\n",
              "      <td>4</td>\n",
              "      <td>4</td>\n",
              "    </tr>\n",
              "    <tr>\n",
              "      <th>s40_whistle_2_potter.wav</th>\n",
              "      <td>S40</td>\n",
              "      <td>whistle</td>\n",
              "      <td>2</td>\n",
              "      <td>4</td>\n",
              "      <td>0</td>\n",
              "    </tr>\n",
              "    <tr>\n",
              "      <th>s40_hum_2_potter.wav</th>\n",
              "      <td>S40</td>\n",
              "      <td>hum</td>\n",
              "      <td>2</td>\n",
              "      <td>4</td>\n",
              "      <td>4</td>\n",
              "    </tr>\n",
              "    <tr>\n",
              "      <th>s17_hum_1_potter.wav</th>\n",
              "      <td>S17</td>\n",
              "      <td>hum</td>\n",
              "      <td>1</td>\n",
              "      <td>4</td>\n",
              "      <td>7</td>\n",
              "    </tr>\n",
              "    <tr>\n",
              "      <th>...</th>\n",
              "      <td>...</td>\n",
              "      <td>...</td>\n",
              "      <td>...</td>\n",
              "      <td>...</td>\n",
              "      <td>...</td>\n",
              "    </tr>\n",
              "    <tr>\n",
              "      <th>s36_hum_2_panther.wav</th>\n",
              "      <td>S36</td>\n",
              "      <td>hum</td>\n",
              "      <td>2</td>\n",
              "      <td>3</td>\n",
              "      <td>2</td>\n",
              "    </tr>\n",
              "    <tr>\n",
              "      <th>s28_hum_2_panther.wav</th>\n",
              "      <td>S28</td>\n",
              "      <td>hum</td>\n",
              "      <td>2</td>\n",
              "      <td>3</td>\n",
              "      <td>2</td>\n",
              "    </tr>\n",
              "    <tr>\n",
              "      <th>s32_hum_2_panther.wav</th>\n",
              "      <td>S32</td>\n",
              "      <td>hum</td>\n",
              "      <td>2</td>\n",
              "      <td>3</td>\n",
              "      <td>4</td>\n",
              "    </tr>\n",
              "    <tr>\n",
              "      <th>s28_hum_4_panther.wav</th>\n",
              "      <td>S28</td>\n",
              "      <td>hum</td>\n",
              "      <td>4</td>\n",
              "      <td>3</td>\n",
              "      <td>2</td>\n",
              "    </tr>\n",
              "    <tr>\n",
              "      <th>s51_hum_2_panther.wav</th>\n",
              "      <td>S51</td>\n",
              "      <td>hum</td>\n",
              "      <td>2</td>\n",
              "      <td>3</td>\n",
              "      <td>1</td>\n",
              "    </tr>\n",
              "  </tbody>\n",
              "</table>\n",
              "<p>250 rows × 5 columns</p>\n",
              "</div>"
            ],
            "text/plain": [
              "                          participant interpretation  ... song  cluster\n",
              "file_id                                               ...              \n",
              "s103_whistle_2_potter.wav        S103        whistle  ...    4        6\n",
              "s103_hum_2_potter.wav            S103            hum  ...    4        4\n",
              "s40_whistle_2_potter.wav          S40        whistle  ...    4        0\n",
              "s40_hum_2_potter.wav              S40            hum  ...    4        4\n",
              "s17_hum_1_potter.wav              S17            hum  ...    4        7\n",
              "...                               ...            ...  ...  ...      ...\n",
              "s36_hum_2_panther.wav             S36            hum  ...    3        2\n",
              "s28_hum_2_panther.wav             S28            hum  ...    3        2\n",
              "s32_hum_2_panther.wav             S32            hum  ...    3        4\n",
              "s28_hum_4_panther.wav             S28            hum  ...    3        2\n",
              "s51_hum_2_panther.wav             S51            hum  ...    3        1\n",
              "\n",
              "[250 rows x 5 columns]"
            ]
          },
          "metadata": {},
          "execution_count": 52
        }
      ]
    },
    {
      "cell_type": "markdown",
      "source": [
        "# 7 Dataset\n",
        "\n",
        "Dataset includes data from eight folders ['Potter_1', 'StarWars_1','Panther_1','Rain_1','Hakuna_1','Frozen_1','Mamma_1','Showman_1'] containing 1673 files extracted from personal Google Drive storage system."
      ],
      "metadata": {
        "id": "cEwNx7-a_LVe"
      }
    },
    {
      "cell_type": "code",
      "source": [
        "path = '/content/drive/MyDrive/Data/Advanced'\n",
        "os.listdir(path)"
      ],
      "metadata": {
        "colab": {
          "base_uri": "https://localhost:8080/"
        },
        "id": "SUE0B0HwM2Kb",
        "outputId": "1e5231d3-0bfd-4a4e-e0d4-7a72a6b85063"
      },
      "execution_count": 13,
      "outputs": [
        {
          "output_type": "execute_result",
          "data": {
            "text/plain": [
              "['Panther_1',\n",
              " 'Rain_1',\n",
              " 'Hakuna_1',\n",
              " 'Frozen_1',\n",
              " 'Mamma_1',\n",
              " 'Showman_1',\n",
              " 'Potter_1',\n",
              " 'Potter_2',\n",
              " 'StarWars_1',\n",
              " 'StarWars_2']"
            ]
          },
          "metadata": {},
          "execution_count": 13
        }
      ]
    },
    {
      "cell_type": "code",
      "source": [
        "potter_1_path = '/content/drive/MyDrive/Data/Advanced/Potter_1/*.wav'\n",
        "panther_1_path = '/content/drive/MyDrive/Data/Advanced/Panther_1/*.wav'\n",
        "rain_1_path = '/content/drive/MyDrive/Data/Advanced/Rain_1/*.wav'\n",
        "hakuna_1_path = '/content/drive/MyDrive/Data/Advanced/Hakuna_1/*.wav'\n",
        "frozen_1_path = '/content/drive/MyDrive/Data/Advanced/Frozen_1/*.wav'\n",
        "mamma_1_path = '/content/drive/MyDrive/Data/Advanced/Mamma_1/*.wav'\n",
        "showman_1_path = '/content/drive/MyDrive/Data/Advanced/Showman_1/*.wav'\n",
        "starwars_1_path = '/content/drive/MyDrive/Data/Advanced/StarWars_1/*.wav'\n",
        "\n",
        "files = glob.glob(potter_1_path)\n",
        "files.extend(glob.glob(panther_1_path))\n",
        "files.extend(glob.glob(rain_1_path))\n",
        "files.extend(glob.glob(hakuna_1_path))\n",
        "files.extend(glob.glob(frozen_1_path))\n",
        "files.extend(glob.glob(mamma_1_path))\n",
        "files.extend(glob.glob(showman_1_path))\n",
        "files.extend(glob.glob(starwars_1_path))\n",
        "\n",
        "len(files)"
      ],
      "metadata": {
        "colab": {
          "base_uri": "https://localhost:8080/"
        },
        "id": "X7xWbmCd2iji",
        "outputId": "c05bb223-f81b-41bc-9e19-04ab12a35d51"
      },
      "execution_count": 14,
      "outputs": [
        {
          "output_type": "execute_result",
          "data": {
            "text/plain": [
              "1673"
            ]
          },
          "metadata": {},
          "execution_count": 14
        }
      ]
    },
    {
      "cell_type": "markdown",
      "source": [
        "Pre process function that takes each file and corrects the file name"
      ],
      "metadata": {
        "id": "Qe-k0Kqq2wqI"
      }
    },
    {
      "cell_type": "code",
      "source": [
        "def preProcess(file):\n",
        "  \n",
        "  file = file.replace(\"[\", \"\")\n",
        "  file = file.replace(\"]\", \"\")\n",
        "  file = file.replace(\" \", \"_\")\n",
        "  file = file.replace(\".\", \"_\")\n",
        "  file = '.'.join(file.rsplit('_', 1))\n",
        "  return file"
      ],
      "metadata": {
        "id": "0rFDFL6TOMRA"
      },
      "execution_count": 15,
      "outputs": []
    },
    {
      "cell_type": "code",
      "source": [
        "for file in files:\n",
        "  file=preProcess(file)\n",
        "  try:\n",
        "    song = file.split('/')[-1].split('_')[3].split('.')[0].lower()\n",
        "    interpretation = file.split('/')[-1].split('_')[1].lower()\n",
        "    if song!= \"potter\" and song!=\"starwars\":\n",
        "      print(\"File:\",file.split('/')[-1])\n",
        "    if interpretation!=\"hum\" and interpretation!=\"whistle\":\n",
        "      print(\"File:\",file.split('/')[-1])   \n",
        "  except:\n",
        "    print(\"File:\",file.split('/')[-1])"
      ],
      "metadata": {
        "colab": {
          "base_uri": "https://localhost:8080/"
        },
        "id": "zlgtW9RfwlP1",
        "outputId": "1f25732a-3fa1-4566-b08e-7602e032be39"
      },
      "execution_count": 51,
      "outputs": [
        {
          "output_type": "stream",
          "name": "stdout",
          "text": [
            "File: S38_hum_3_Potterwav.wav\n",
            "File: S105_hum_1_harry_potter.wav\n",
            "File: S55_harrypotter_hum_2.wav\n",
            "File: S55_harrypotter_hum_2.wav\n",
            "File: S55_harrypotter_whistle_1.wav\n",
            "File: S55_harrypotter_whistle_1.wav\n",
            "File: S146_hum_3_(potter).wav\n",
            "File: S146_hum_1_(potter).wav\n",
            "File: S138_whistle_1_Harry_Potter_Theme_Song.wav\n",
            "File: S138_hum_1_Harry_Potter_Theme_Song.wav\n",
            "File: S61_hum_2_StatWars.wav\n",
            "File: S102_whistle_1_Star_wars.wav\n",
            "File: S102_whistle_2_Star_wars.wav\n",
            "File: S85_hum_3_StarsWars.wav\n",
            "File: S85_hum_4_StarsWars.wav\n",
            "File: S55_starwars_hum_1.wav\n",
            "File: S55_starwars_hum_1.wav\n",
            "File: S49_hum_2__Star_Wars_.wav\n",
            "File: S55_starwars_whistle_2.wav\n",
            "File: S55_starwars_whistle_2.wav\n",
            "File: S49_hum_3__Star_Wars_.wav\n",
            "File: S6_whisle_1_starwar.wav\n",
            "File: S6_whisle_1_starwar.wav\n",
            "File: S114_hum_3_star_wars.wav\n",
            "File: S114_hum_4_star_wars.wav\n",
            "File: S6_whisle_2_starwar.wav\n",
            "File: S6_whisle_2_starwar.wav\n",
            "File: S221_hum_1_StartWars.wav\n",
            "File: S150_hum_1_imperial_march.wav\n",
            "File: S141_hum2_Imperial_March.wav\n",
            "File: S141_hum2_Imperial_March.wav\n",
            "File: S141_whistle_2_Imperial_March.wav\n",
            "File: S173_whislte_2_StarWars.wav\n",
            "File: S146_hum_1_(starwars).wav\n",
            "File: S146_hum_4_(starwars).wav\n",
            "File: S180_whistle_1_star_wars.wav\n",
            "File: S180_whistle_2_star_wars.wav\n",
            "File: S138_hum_1_Imperial.wav\n",
            "File: S138_whistle_1_Imperial.wav\n"
          ]
        }
      ]
    },
    {
      "cell_type": "code",
      "source": [
        "for file in files:\n",
        "  file=preProcess(file)\n",
        "  try:\n",
        "    song = file.split('/')[-1].split('_')[3].split('.')[0].lower()\n",
        "    interpretation = file.split('/')[-1].split('_')[1].lower()\n",
        "    if song!= \"potter\" and song!=\"starwars\" and song!=\"rain\" and song!=\"hakuna\" and song!=\"frozen\" and song!=\"mamma\" and song!=\"showman\" and song!=\"panther\":\n",
        "      print(\"File:\",file.split('/')[-1])\n",
        "    if interpretation!=\"hum\" and interpretation!=\"whistle\":\n",
        "      print(\"File:\",file.split('/')[-1])   \n",
        "  except:\n",
        "    print(\"File:\",file.split('/')[-1])"
      ],
      "metadata": {
        "colab": {
          "base_uri": "https://localhost:8080/"
        },
        "id": "1T7bYi9fnbwA",
        "outputId": "38826d7e-b5ca-4318-f1ae-fbf13fc31633"
      },
      "execution_count": 8,
      "outputs": [
        {
          "output_type": "stream",
          "name": "stdout",
          "text": [
            "File: S35_hum_1__Panther.wav\n",
            "File: S47_hum_1_pinkpanther.wav\n",
            "File: S47_whistle_1_pinkpanther.wav\n",
            "File: S5_hum_1_PinkPanther.wav\n",
            "File: S5_hum_4_PinkPanther.wav\n",
            "File: S105_hum_1_pink_panther.wav\n",
            "File: S105_whistle_2_pink_panther.wav\n",
            "File: S42_Hum3_Pink_Panther_wav.wav\n",
            "File: S49_hum_1___Panther_.wav\n",
            "File: S49_hum_3__Panther_.wav\n",
            "File: S55_pinkpanther_hum_2.wav\n",
            "File: S55_pinkpanther_hum_2.wav\n",
            "File: S55_pinkpanther_whistle_2.wav\n",
            "File: S55_pinkpanther_whistle_2.wav\n",
            "File: S6_whisle_2_rain.wav\n",
            "File: S105_hum_1_singing_in_the_rain.wav\n",
            "File: S105_hum_2_singing_in_the_rain.wav\n",
            "File: S55_singingintherain_whistle_1.wav\n",
            "File: S55_singingintherain_whistle_1.wav\n",
            "File: S55_singingintherain_whistle_2.wav\n",
            "File: S55_singingintherain_whistle_2.wav\n",
            "File: S82_hum_2_Rainwav.wav\n",
            "File: S49_hum_4__Rain_.wav\n",
            "File: S49_hum_1__Rain_.wav\n",
            "File: S42_Hum2_The_Rain_wav.wav\n",
            "File: S49_hum_3__Hakuna_.wav\n",
            "File: S49_hum_1__Hakuna_.wav\n",
            "File: S5_hum_2_HakunaMatata.wav\n",
            "File: S5_hum_3_HakunaMatata.wav\n",
            "File: S42_Hum3_Hakuna.wav\n",
            "File: S104_Hum_2_HakunaMatata.wav\n",
            "File: S104_Hum_3_HakunaMatata.wav\n",
            "File: S42_Hum1_Hakuna.wav\n",
            "File: S55_hakunamatata_hum_1.wav\n",
            "File: S55_hakunamatata_hum_1.wav\n",
            "File: S55_hakunamatata_hum_2.wav\n",
            "File: S55_hakunamatata_hum_2.wav\n",
            "File: S105_whistle_1_hakunamatata.wav\n",
            "File: S61_hum_2_Hukuna.wav\n",
            "File: S61_whistle_2_Hukuna.wav\n",
            "File: S6_whisle_1_Hakuna.wav\n",
            "File: S104_Hun_2_Frozen.wav\n",
            "File: S42_Hum3_Frozen.wav\n",
            "File: S5_hum_1_letitgo.wav\n",
            "File: S42_Hum4_Frozen.wav\n",
            "File: S5_hum_4_letitgo.wav\n",
            "File: S55_Frozen_hum_1.wav\n",
            "File: S55_Frozen_hum_1.wav\n",
            "File: S55_Frozen_hum_2.wav\n",
            "File: S55_Frozen_hum_2.wav\n",
            "File: S6_whisle_1_Frozen.wav\n",
            "File: S49_hum_4__Frozen_.wav\n",
            "File: S49_hum_3__Frozen_.wav\n",
            "File: S42_Hum2_Mamma.wav\n",
            "File: S47_hum_1_mamamia.wav\n",
            "File: S47_hum_4_mamamia.wav\n",
            "File: S42_Hum1_Mamma.wav\n",
            "File: S5_hum_3_mummamia.wav\n",
            "File: S5_hum_4_mummamia.wav\n",
            "File: S61_hum_1_Mama.wav\n",
            "File: S61_whistle_1_Mama.wav\n",
            "File: S6_whisle_1_Mamma.wav\n",
            "File: S49_hum_4__Mamma_.wav\n",
            "File: S49_hum_3__Mamma_.wav\n",
            "File: S105_whistle_2_mamamia.wav\n",
            "File: S105_whistle_1_mamamia.wav\n",
            "File: S55_mamia_whistle_1.wav\n",
            "File: S55_mamia_whistle_1.wav\n",
            "File: S55_mamia_whistle_2.wav\n",
            "File: S55_mamia_whistle_2.wav\n",
            "File: S56_hum_2_Mumma.wav\n",
            "File: S56_whistle_2_Mumma.wav\n",
            "File: S4_hum_2_Mumma.wav\n",
            "File: S4_hum_3_Mumma.wav\n",
            "File: S42_Hum4_Showman.wav\n",
            "File: S42_Hum3_Showman.wav\n",
            "File: S6_whisle_2_Showman.wav\n",
            "File: S6_whisle_1_Showman.wav\n",
            "File: S55_thisisme_hum_1.wav\n",
            "File: S55_thisisme_hum_1.wav\n",
            "File: S55_thisisme_hum_2.wav\n",
            "File: S55_thisisme_hum_2.wav\n",
            "File: S105_hum_2_this_is_me.wav\n",
            "File: S105_hum_1_this_is_me.wav\n",
            "File: S5_hum_1_thisisme.wav\n",
            "File: S49_hum_4__Showman_.wav\n",
            "File: S5_hum_3_thisisme.wav\n",
            "File: S49_hum_2__Showman_.wav\n"
          ]
        }
      ]
    },
    {
      "cell_type": "markdown",
      "source": [
        "After correcting the above detected errors manually creating a dataframe below."
      ],
      "metadata": {
        "id": "pZKzYX3x7nZo"
      }
    },
    {
      "cell_type": "code",
      "source": [
        "from sklearn import preprocessing\n",
        "\n",
        "MLENDHW_table = [] \n",
        "\n",
        "for file in files:\n",
        "  file = preProcess(file)\n",
        "  file_name = file.split('/')[-1].strip().lower()\n",
        "  participant_ID = file.split('/')[-1].split('_')[0]\n",
        "  interpretation_type = file.split('/')[-1].split('_')[1].lower()\n",
        "  interpretation_number = file.split('/')[-1].split('_')[2]\n",
        "  song = file.split('/')[-1].split('_')[3].split('.')[0].lower()\n",
        "  MLENDHW_table.append([file_name,participant_ID,interpretation_type,interpretation_number,song])\n",
        "\n",
        "MLENDHW_df = pd.DataFrame(MLENDHW_table,columns=['file_id','participant','interpretation','interpretation number','song']).set_index('file_id') \n",
        "\n",
        "#Label Encoding song name column\n",
        "le = preprocessing.LabelEncoder()\n",
        "MLENDHW_df['song'] = le.fit_transform(MLENDHW_df.song.values)\n",
        "MLENDHW_df\n"
      ],
      "metadata": {
        "colab": {
          "base_uri": "https://localhost:8080/",
          "height": 450
        },
        "id": "1_m0cr-kOTPD",
        "outputId": "c2e4569c-4319-4e5e-c417-5fdccda8f724"
      },
      "execution_count": 49,
      "outputs": [
        {
          "output_type": "execute_result",
          "data": {
            "text/html": [
              "<div>\n",
              "<style scoped>\n",
              "    .dataframe tbody tr th:only-of-type {\n",
              "        vertical-align: middle;\n",
              "    }\n",
              "\n",
              "    .dataframe tbody tr th {\n",
              "        vertical-align: top;\n",
              "    }\n",
              "\n",
              "    .dataframe thead th {\n",
              "        text-align: right;\n",
              "    }\n",
              "</style>\n",
              "<table border=\"1\" class=\"dataframe\">\n",
              "  <thead>\n",
              "    <tr style=\"text-align: right;\">\n",
              "      <th></th>\n",
              "      <th>participant</th>\n",
              "      <th>interpretation</th>\n",
              "      <th>interpretation number</th>\n",
              "      <th>song</th>\n",
              "    </tr>\n",
              "    <tr>\n",
              "      <th>file_id</th>\n",
              "      <th></th>\n",
              "      <th></th>\n",
              "      <th></th>\n",
              "      <th></th>\n",
              "    </tr>\n",
              "  </thead>\n",
              "  <tbody>\n",
              "    <tr>\n",
              "      <th>s103_whistle_2_potter.wav</th>\n",
              "      <td>S103</td>\n",
              "      <td>whistle</td>\n",
              "      <td>2</td>\n",
              "      <td>4</td>\n",
              "    </tr>\n",
              "    <tr>\n",
              "      <th>s103_hum_2_potter.wav</th>\n",
              "      <td>S103</td>\n",
              "      <td>hum</td>\n",
              "      <td>2</td>\n",
              "      <td>4</td>\n",
              "    </tr>\n",
              "    <tr>\n",
              "      <th>s40_whistle_2_potter.wav</th>\n",
              "      <td>S40</td>\n",
              "      <td>whistle</td>\n",
              "      <td>2</td>\n",
              "      <td>4</td>\n",
              "    </tr>\n",
              "    <tr>\n",
              "      <th>s40_hum_2_potter.wav</th>\n",
              "      <td>S40</td>\n",
              "      <td>hum</td>\n",
              "      <td>2</td>\n",
              "      <td>4</td>\n",
              "    </tr>\n",
              "    <tr>\n",
              "      <th>s17_hum_1_potter.wav</th>\n",
              "      <td>S17</td>\n",
              "      <td>hum</td>\n",
              "      <td>1</td>\n",
              "      <td>4</td>\n",
              "    </tr>\n",
              "    <tr>\n",
              "      <th>...</th>\n",
              "      <td>...</td>\n",
              "      <td>...</td>\n",
              "      <td>...</td>\n",
              "      <td>...</td>\n",
              "    </tr>\n",
              "    <tr>\n",
              "      <th>s49_hum_2_starwars.wav</th>\n",
              "      <td>S49</td>\n",
              "      <td>hum</td>\n",
              "      <td>2</td>\n",
              "      <td>7</td>\n",
              "    </tr>\n",
              "    <tr>\n",
              "      <th>s6_whistle_2_starwars.wav</th>\n",
              "      <td>S6</td>\n",
              "      <td>whistle</td>\n",
              "      <td>2</td>\n",
              "      <td>7</td>\n",
              "    </tr>\n",
              "    <tr>\n",
              "      <th>s6_whistle_1_starwars.wav</th>\n",
              "      <td>S6</td>\n",
              "      <td>whistle</td>\n",
              "      <td>1</td>\n",
              "      <td>7</td>\n",
              "    </tr>\n",
              "    <tr>\n",
              "      <th>s114_hum_3_starwars.wav</th>\n",
              "      <td>S114</td>\n",
              "      <td>hum</td>\n",
              "      <td>3</td>\n",
              "      <td>7</td>\n",
              "    </tr>\n",
              "    <tr>\n",
              "      <th>s114_hum_4_starwars.wav</th>\n",
              "      <td>S114</td>\n",
              "      <td>hum</td>\n",
              "      <td>4</td>\n",
              "      <td>7</td>\n",
              "    </tr>\n",
              "  </tbody>\n",
              "</table>\n",
              "<p>1673 rows × 4 columns</p>\n",
              "</div>"
            ],
            "text/plain": [
              "                          participant  ... song\n",
              "file_id                                ...     \n",
              "s103_whistle_2_potter.wav        S103  ...    4\n",
              "s103_hum_2_potter.wav            S103  ...    4\n",
              "s40_whistle_2_potter.wav          S40  ...    4\n",
              "s40_hum_2_potter.wav              S40  ...    4\n",
              "s17_hum_1_potter.wav              S17  ...    4\n",
              "...                               ...  ...  ...\n",
              "s49_hum_2_starwars.wav            S49  ...    7\n",
              "s6_whistle_2_starwars.wav          S6  ...    7\n",
              "s6_whistle_1_starwars.wav          S6  ...    7\n",
              "s114_hum_3_starwars.wav          S114  ...    7\n",
              "s114_hum_4_starwars.wav          S114  ...    7\n",
              "\n",
              "[1673 rows x 4 columns]"
            ]
          },
          "metadata": {},
          "execution_count": 49
        }
      ]
    },
    {
      "cell_type": "markdown",
      "source": [
        "Songs are labelled as: [\"Frozen\":0, \"Hakuna\":1, \"Mamma\":2, \"Panther\":3,Potter\":4, \"Rain\":5, \"Showman\":6, \"Starwars\":7]"
      ],
      "metadata": {
        "id": "pCRYQhczLR1U"
      }
    },
    {
      "cell_type": "markdown",
      "source": [
        "# 8 Results\n",
        "\n",
        "Experimentation with Clustering:"
      ],
      "metadata": {
        "id": "s7MYWIL9Aucx"
      }
    },
    {
      "cell_type": "markdown",
      "source": [
        "Trying to check for patterns with two clusters, but they turn out inappropriate as expected clusters for hum/whistle depending on the pitch features."
      ],
      "metadata": {
        "id": "kqFYlIToUrWt"
      }
    },
    {
      "cell_type": "code",
      "source": [
        "from sklearn.cluster import KMeans\n",
        "kmeans = KMeans(n_clusters=2)\n",
        "yi = kmeans.fit_predict(features_scaled)\n",
        "yi"
      ],
      "metadata": {
        "colab": {
          "base_uri": "https://localhost:8080/"
        },
        "id": "BPfg6D7lmPHb",
        "outputId": "8957aa0a-8eba-4389-8dc2-156b21da68b5"
      },
      "execution_count": 53,
      "outputs": [
        {
          "output_type": "execute_result",
          "data": {
            "text/plain": [
              "array([0, 0, 0, ..., 0, 0, 0], dtype=int32)"
            ]
          },
          "metadata": {},
          "execution_count": 53
        }
      ]
    },
    {
      "cell_type": "code",
      "source": [
        "temp = MLENDHW_df.head(1673)\n",
        "temp['cluster'] = yi\n",
        "temp.head(10)"
      ],
      "metadata": {
        "colab": {
          "base_uri": "https://localhost:8080/",
          "height": 492
        },
        "id": "ZM2IstXmmUQ_",
        "outputId": "2cd079c5-b18a-4b70-d1a6-4bed32ea89c9"
      },
      "execution_count": 54,
      "outputs": [
        {
          "output_type": "stream",
          "name": "stderr",
          "text": [
            "/usr/local/lib/python3.7/dist-packages/ipykernel_launcher.py:2: SettingWithCopyWarning: \n",
            "A value is trying to be set on a copy of a slice from a DataFrame.\n",
            "Try using .loc[row_indexer,col_indexer] = value instead\n",
            "\n",
            "See the caveats in the documentation: https://pandas.pydata.org/pandas-docs/stable/user_guide/indexing.html#returning-a-view-versus-a-copy\n",
            "  \n"
          ]
        },
        {
          "output_type": "execute_result",
          "data": {
            "text/html": [
              "<div>\n",
              "<style scoped>\n",
              "    .dataframe tbody tr th:only-of-type {\n",
              "        vertical-align: middle;\n",
              "    }\n",
              "\n",
              "    .dataframe tbody tr th {\n",
              "        vertical-align: top;\n",
              "    }\n",
              "\n",
              "    .dataframe thead th {\n",
              "        text-align: right;\n",
              "    }\n",
              "</style>\n",
              "<table border=\"1\" class=\"dataframe\">\n",
              "  <thead>\n",
              "    <tr style=\"text-align: right;\">\n",
              "      <th></th>\n",
              "      <th>participant</th>\n",
              "      <th>interpretation</th>\n",
              "      <th>interpretation number</th>\n",
              "      <th>song</th>\n",
              "      <th>cluster</th>\n",
              "    </tr>\n",
              "    <tr>\n",
              "      <th>file_id</th>\n",
              "      <th></th>\n",
              "      <th></th>\n",
              "      <th></th>\n",
              "      <th></th>\n",
              "      <th></th>\n",
              "    </tr>\n",
              "  </thead>\n",
              "  <tbody>\n",
              "    <tr>\n",
              "      <th>s103_whistle_2_potter.wav</th>\n",
              "      <td>S103</td>\n",
              "      <td>whistle</td>\n",
              "      <td>2</td>\n",
              "      <td>4</td>\n",
              "      <td>0</td>\n",
              "    </tr>\n",
              "    <tr>\n",
              "      <th>s103_hum_2_potter.wav</th>\n",
              "      <td>S103</td>\n",
              "      <td>hum</td>\n",
              "      <td>2</td>\n",
              "      <td>4</td>\n",
              "      <td>0</td>\n",
              "    </tr>\n",
              "    <tr>\n",
              "      <th>s40_whistle_2_potter.wav</th>\n",
              "      <td>S40</td>\n",
              "      <td>whistle</td>\n",
              "      <td>2</td>\n",
              "      <td>4</td>\n",
              "      <td>0</td>\n",
              "    </tr>\n",
              "    <tr>\n",
              "      <th>s40_hum_2_potter.wav</th>\n",
              "      <td>S40</td>\n",
              "      <td>hum</td>\n",
              "      <td>2</td>\n",
              "      <td>4</td>\n",
              "      <td>0</td>\n",
              "    </tr>\n",
              "    <tr>\n",
              "      <th>s17_hum_1_potter.wav</th>\n",
              "      <td>S17</td>\n",
              "      <td>hum</td>\n",
              "      <td>1</td>\n",
              "      <td>4</td>\n",
              "      <td>0</td>\n",
              "    </tr>\n",
              "    <tr>\n",
              "      <th>s17_hum_2_potter.wav</th>\n",
              "      <td>S17</td>\n",
              "      <td>hum</td>\n",
              "      <td>2</td>\n",
              "      <td>4</td>\n",
              "      <td>0</td>\n",
              "    </tr>\n",
              "    <tr>\n",
              "      <th>s16_hum_2_potter.wav</th>\n",
              "      <td>S16</td>\n",
              "      <td>hum</td>\n",
              "      <td>2</td>\n",
              "      <td>4</td>\n",
              "      <td>0</td>\n",
              "    </tr>\n",
              "    <tr>\n",
              "      <th>s115_hum_2_potter.wav</th>\n",
              "      <td>S115</td>\n",
              "      <td>hum</td>\n",
              "      <td>2</td>\n",
              "      <td>4</td>\n",
              "      <td>0</td>\n",
              "    </tr>\n",
              "    <tr>\n",
              "      <th>s16_whistle_2_potter.wav</th>\n",
              "      <td>S16</td>\n",
              "      <td>whistle</td>\n",
              "      <td>2</td>\n",
              "      <td>4</td>\n",
              "      <td>0</td>\n",
              "    </tr>\n",
              "    <tr>\n",
              "      <th>s70_hum_1_potter.wav</th>\n",
              "      <td>S70</td>\n",
              "      <td>hum</td>\n",
              "      <td>1</td>\n",
              "      <td>4</td>\n",
              "      <td>1</td>\n",
              "    </tr>\n",
              "  </tbody>\n",
              "</table>\n",
              "</div>"
            ],
            "text/plain": [
              "                          participant interpretation  ... song  cluster\n",
              "file_id                                               ...              \n",
              "s103_whistle_2_potter.wav        S103        whistle  ...    4        0\n",
              "s103_hum_2_potter.wav            S103            hum  ...    4        0\n",
              "s40_whistle_2_potter.wav          S40        whistle  ...    4        0\n",
              "s40_hum_2_potter.wav              S40            hum  ...    4        0\n",
              "s17_hum_1_potter.wav              S17            hum  ...    4        0\n",
              "s17_hum_2_potter.wav              S17            hum  ...    4        0\n",
              "s16_hum_2_potter.wav              S16            hum  ...    4        0\n",
              "s115_hum_2_potter.wav            S115            hum  ...    4        0\n",
              "s16_whistle_2_potter.wav          S16        whistle  ...    4        0\n",
              "s70_hum_1_potter.wav              S70            hum  ...    4        1\n",
              "\n",
              "[10 rows x 5 columns]"
            ]
          },
          "metadata": {},
          "execution_count": 54
        }
      ]
    },
    {
      "cell_type": "markdown",
      "source": [
        "Experimentation with different features.\n",
        "\n",
        "Explored other features such as : \n",
        "1. Spectral Centroid \n",
        "\n",
        "Each frame of a magnitude spectrogram is normalized and treated as a distribution over frequency bins, from which the mean (centroid) is extracted per frame.\n",
        "\n",
        "2. Spectral Roll-off\n",
        "\n",
        "The roll-off frequency is defined for each frame as the center frequency for a spectrogram bin such that at least roll_percent (0.85 by default) of the energy of the spectrum in this frame is contained in this bin and the bins below. \n",
        "\n",
        "3. MFCC\n",
        "\n",
        "Mel-frequency cepstral coefficients \n",
        "\n",
        "Drawback :     \n",
        "All of these features gave the characteristics of the audio in an array, which was difficult to import as a feature value."
      ],
      "metadata": {
        "id": "klUlij57VqpU"
      }
    },
    {
      "cell_type": "code",
      "source": [
        "#Spectral Centroid\n",
        "y, sr = librosa.load(files[0])\n",
        "cent = librosa.feature.spectral_centroid(y=y, sr=sr)\n",
        "cent"
      ],
      "metadata": {
        "colab": {
          "base_uri": "https://localhost:8080/"
        },
        "id": "lg3GUudaA06V",
        "outputId": "83dc0811-b54f-414a-e507-337dcaf12e81"
      },
      "execution_count": 70,
      "outputs": [
        {
          "output_type": "execute_result",
          "data": {
            "text/plain": [
              "array([[7538.97241152, 4232.7004824 , 3696.2080859 , 3642.18183005,\n",
              "        3646.24892707, 3837.83385017, 4124.2550012 , 4325.56455081,\n",
              "        4213.5707724 , 4263.99772883, 4144.7374888 , 4029.67756727,\n",
              "        4208.16219804, 4172.80290504, 3958.45742034, 4249.9002293 ,\n",
              "        3383.12731936, 2388.15508845, 2100.9863134 , 2008.35328477,\n",
              "        2039.43734395, 2071.76244997, 2190.73081112, 2127.99786486,\n",
              "        1938.08936921, 1675.56087538, 1340.0276418 , 1337.55449424,\n",
              "        1365.95494864, 1524.9534736 , 1704.496551  , 1752.80635341,\n",
              "        1835.40488313, 1845.46252985, 1814.80170714, 1871.42714372,\n",
              "        1812.1774551 , 1755.98875926, 1721.4972958 , 1654.73474583,\n",
              "        1615.3013553 , 1597.29404633, 1453.24934323, 1344.42532437,\n",
              "        1337.99958002, 1213.43474709, 1227.54756303, 1565.05234245,\n",
              "        1630.71175401, 1677.54784234, 1697.97462348, 1583.64521989,\n",
              "        1585.85823757, 1672.14874684, 1647.04225751, 1576.19973464,\n",
              "        1542.33359111, 1538.22553224, 1575.08724558, 1773.88648561,\n",
              "        1933.98508095, 2189.97950129, 2511.13889858,  909.191388  ,\n",
              "         759.06513878, 1146.25928316, 1547.41842737, 1621.29825578,\n",
              "        1622.7800631 , 1649.24359344, 1658.77975262, 1682.23912802,\n",
              "        1611.04146923, 1501.12595002, 1455.8542853 , 1419.4312705 ,\n",
              "        1389.8351667 , 1362.67879811, 1345.73172848, 1473.00791665,\n",
              "        1103.54341703,  959.11122539, 1420.40797269, 1553.48488031,\n",
              "        1601.34211506, 1766.56138348, 1882.22405655, 1860.5531679 ,\n",
              "        1967.33948025, 2089.13341482, 2079.6648246 , 1966.12102568,\n",
              "        1939.20688073, 1938.51759196, 1785.12571781, 1789.25372633,\n",
              "        1904.42823051, 2211.01206427, 1427.80881255, 1017.33052539,\n",
              "         740.83154442, 1263.98588289, 1694.58984778, 1767.51916664,\n",
              "        1855.16341398, 1767.77269039, 1596.3249468 , 1615.75549485,\n",
              "        1661.08570734, 1732.49791609, 1645.8775217 , 1601.20314235,\n",
              "        1630.09341224, 1689.02698405, 1719.09609256, 1628.68057576,\n",
              "        1607.59764604, 1584.72473717, 1484.30869401, 1352.60181499,\n",
              "        1388.9832605 , 1544.01921273, 1512.64841773, 1439.92574618,\n",
              "        1313.2656915 , 1140.84479532, 1187.98326365, 1233.8117456 ,\n",
              "        1262.45335269, 1278.16126555, 1280.37897114, 1456.49865822,\n",
              "        2024.88501836, 2576.04565345, 2801.59903004, 2290.80721262,\n",
              "         738.88437551,  579.31007136,  761.76891474, 1064.24204946,\n",
              "        1066.31710211, 1070.05537853, 1082.56802206, 1109.61241246,\n",
              "        1081.42634311, 1061.26409138, 1082.50222243, 1205.8062345 ,\n",
              "        1650.72945986, 2806.43452386, 3054.17596033, 2699.63126266,\n",
              "        2343.04927097, 2271.04672536, 2461.91626355, 2562.23390346,\n",
              "        2879.88844746, 2856.17463441, 2999.27111056, 3109.55780678,\n",
              "        3213.97016439, 3173.44228594, 2967.47020594, 2100.32070853,\n",
              "        1378.60644653, 1070.90152425, 1005.87813562, 1031.23446114,\n",
              "        1031.69695894, 1052.48448765, 1075.51150743, 1089.64921165,\n",
              "        1084.25326486, 1068.82148493, 1062.14667211, 1158.3298252 ,\n",
              "        1285.59110898, 1363.69527311, 1342.51897845, 1247.5196186 ,\n",
              "        1241.09019871, 1304.03168702, 1482.16104301, 1668.3295312 ,\n",
              "        1683.0816013 , 1724.92427854, 1725.98281679, 1740.31154404,\n",
              "        1721.28381416, 1625.5216254 , 1370.48305824, 1180.65357443,\n",
              "        1118.05520845, 1130.74251819, 1275.33805873, 1288.13662342,\n",
              "        1311.1443701 , 1371.89282694, 1410.45935397, 1353.99546517,\n",
              "        1320.16762728, 1439.8925571 , 1371.21786041, 1333.39251095,\n",
              "        1296.41440359, 1274.54274059, 1269.64365923, 1248.81127126,\n",
              "        1453.64423616, 1687.58395897,  940.48955   , 1002.43547728,\n",
              "        1281.0134294 , 1341.96117257, 1355.93552053, 1310.66916341,\n",
              "        1329.61741726, 1327.47913324, 1308.89927405, 1309.34209998,\n",
              "        1314.38921521, 1335.16411032, 1298.46505937, 1260.51966713,\n",
              "        1296.70649944, 1333.69456104, 1283.89807142, 1209.91902061,\n",
              "        1197.45198373, 1292.74517232, 1432.31861301, 1374.67219074,\n",
              "        1389.23421507, 1424.8520889 , 1509.29116301, 1595.74030068,\n",
              "        1645.83613421, 1980.19367736, 1770.50409084, 1735.02400517,\n",
              "        1689.30222147, 1632.60885709, 1472.78143513, 1363.52712991,\n",
              "        1384.86475154, 1521.43578459, 1908.88102253, 2102.44592322,\n",
              "        1203.66485143, 1103.69430472, 1282.11611357, 1314.29421841,\n",
              "        1274.7085334 , 1258.82447056, 1271.10837129, 1295.98740636,\n",
              "        1308.76564282, 1297.57863967, 1269.99130883, 1257.39478831,\n",
              "        1286.875411  , 1282.91601166, 1276.52152441, 1272.8834066 ,\n",
              "        1272.32444053, 1275.72300918, 1294.16574276, 1323.97973826,\n",
              "        1332.04241375, 1304.71245109, 1331.59282249, 1327.3522477 ,\n",
              "        1280.48431806, 1271.1978248 , 1294.22611263, 1316.01028409,\n",
              "        1319.80926284, 1291.00555994, 1285.73418068, 1290.60067367,\n",
              "        1285.11539361, 1278.68618023, 1277.85604414, 1273.85302172,\n",
              "        1295.58366857, 1290.31247795, 1277.76165923, 1278.89644596,\n",
              "        1268.73593466, 1322.95814307, 1547.76069816, 1715.08743787,\n",
              "        1639.88753605, 2043.26573829, 2881.20274332, 3027.5037641 ,\n",
              "        2995.9214753 , 3034.21438513, 2965.22677749, 2970.87227626,\n",
              "        2971.79682397, 3069.93767056, 2961.35578231, 2523.89411164,\n",
              "        2135.90071502, 2524.01845711, 3112.36607213, 2818.01259191,\n",
              "        2566.5588678 , 2222.44714461, 2086.71881245, 2024.08827271,\n",
              "        1981.39556934, 2040.10300468, 2026.72157317, 1990.3223193 ,\n",
              "        2065.7613672 , 2040.85339938, 2000.93978918, 1995.18581863,\n",
              "        2030.98513784, 1977.62917509, 1959.38058933, 1908.29434978,\n",
              "        1830.14647529, 1900.08843998, 2322.74689358, 3026.25283222,\n",
              "        3313.78421125, 3218.9543189 , 3033.48947282, 3213.59466556,\n",
              "        2708.32040669, 1406.11732345, 1124.37124443, 1091.86415147,\n",
              "        1145.72376439, 1228.78802077, 1247.70498684, 1137.33614248,\n",
              "        1000.74610918,  869.28574055,  926.21983138, 1312.15067389,\n",
              "        1074.79858365, 1200.43698186, 1342.72375959, 1393.54268972,\n",
              "        1406.73965459, 1458.59929797, 1403.05151986, 1380.57375435,\n",
              "        1401.26229914, 1441.3471943 , 1415.71853062, 1351.1850528 ,\n",
              "        1353.48630502, 1373.10770977, 1331.81217918, 1268.02358319,\n",
              "        1206.21411704, 1264.05519666, 1599.48128504, 1706.75171625,\n",
              "        1695.64781227, 1722.9611421 , 1786.06113507, 1722.52545254,\n",
              "        1584.12984866, 1522.33660113, 1525.28172736, 1492.80275783,\n",
              "        1413.4133814 , 1348.81312385, 1339.4916545 , 1303.34433086,\n",
              "        1202.43212895, 1287.27752286, 1519.66942187, 1828.02359315,\n",
              "        2230.71181266, 1446.3626566 , 1356.456917  , 1370.90596659,\n",
              "        1369.60496557, 1315.99709908, 1297.29413012, 1280.34010514,\n",
              "        1278.68166818, 1353.02688154, 1515.97490462, 1496.29594914,\n",
              "        1444.41342   , 1397.08440745, 1463.92404656, 2103.24118548,\n",
              "        2321.34998673, 1333.6171255 , 1546.60627948, 1544.50971148,\n",
              "        1551.20817881, 1594.27366506, 1647.36538531, 1696.78654798,\n",
              "        1837.43594847, 2028.8969881 , 2075.6083669 , 1929.61415976,\n",
              "        1846.77324514, 1792.76100958, 1786.03194531, 1786.89095584,\n",
              "        1798.09877602, 1927.16675383, 2123.32289699, 1238.7771249 ,\n",
              "        1582.34331777, 1799.13048041, 1836.86129219, 1811.14957101,\n",
              "        1767.82580428, 1780.22206014, 1795.51642173, 1785.60171798,\n",
              "        1776.28943283, 1774.18049129, 1772.1989771 , 1780.70309291,\n",
              "        1785.54522477, 1776.58919098, 1790.0168019 , 1771.63137791,\n",
              "        1784.65359028, 1826.36989858, 1842.57592467, 1846.98995819,\n",
              "        1791.75048128, 1804.34373869, 1861.67884441, 1743.8102335 ,\n",
              "        1640.54777656, 1591.45387311, 1579.44324439, 1603.07876407,\n",
              "        1523.17976711, 1431.0693674 , 1363.11095395, 1302.86446092,\n",
              "        1268.86833849, 1251.80318299, 1257.93482374, 1401.48920517,\n",
              "        1704.92823158, 2348.54564548, 1536.38770725,  653.42112979,\n",
              "         704.76235259, 1106.28846328, 1135.23263452, 1141.52710697,\n",
              "        1151.97904615, 1166.57448635, 1170.71210649, 1170.58373846,\n",
              "        1186.80746267, 1319.72042777, 1560.41267595, 2377.89148885,\n",
              "        3040.02876107, 3293.04074232, 3312.09648605, 3323.70813691,\n",
              "        3256.25898033, 3189.04624913, 3046.22285933, 3006.89551399,\n",
              "        3037.23448503, 3164.66005796, 3118.99516512, 3314.82910666,\n",
              "        3416.93030191, 3494.79772149, 3490.6657501 , 3409.98819007,\n",
              "        2851.70862654, 2116.27804162, 1704.14207449, 1264.33086853,\n",
              "        1158.83581672, 1154.54947923, 1113.21427237, 1107.04444775,\n",
              "        1091.40310137, 1161.62212713, 1598.4411463 , 1585.64010412,\n",
              "        1257.13886735, 1255.94364568, 1300.11440881, 1298.81368788,\n",
              "        1280.55252863, 1229.10598602, 1196.19111881, 1244.30293499,\n",
              "        1342.99091714, 1465.43231983, 1511.88228205, 1381.86715061,\n",
              "        1250.12483713, 1187.32887921, 1138.28893365, 1115.94643864,\n",
              "        1243.17932216, 1432.04048789, 1408.41025892, 1366.75322679,\n",
              "        1341.64359737, 1386.92450732, 1564.88005532, 1723.40989155,\n",
              "        1817.04140564, 1666.41772982, 1501.81815946, 1397.60354513,\n",
              "        1344.19073467, 1311.62861229, 1333.24501073, 1564.00426548,\n",
              "        2209.03589286, 3136.79240386, 3354.35846322, 3429.87090231,\n",
              "        1516.50653124, 1080.1192126 , 1579.75022847, 1568.24058435,\n",
              "        1286.46554513, 1293.03910057, 1297.3001437 , 1298.1077554 ,\n",
              "        1276.13168314, 1243.64768323, 1305.17987661, 1367.59361157,\n",
              "        1316.80088886, 1268.65778978, 1252.21988078, 1289.12019754,\n",
              "        1566.41888447, 2353.48330059, 2839.59553763, 1814.39771852,\n",
              "        1435.16843332, 1389.66874826, 1402.51548038, 1393.29979762,\n",
              "        1372.1280541 , 1349.77437098, 1362.01717987, 1318.21037998,\n",
              "        1286.53719754, 1250.73968056, 1219.06249437, 1191.48513526,\n",
              "        1220.11133407, 1525.92753946, 2251.89094256, 2287.57894847,\n",
              "        2345.5482218 , 2855.24439418, 1884.0616244 , 2277.61336433,\n",
              "        2297.39079243, 1773.05363934, 1380.47347544, 1333.84569511,\n",
              "        1342.82721053, 1314.77711628, 1264.84381041, 1226.93891853,\n",
              "        1241.84160957, 1243.48888323, 1260.5113382 , 1262.02300615,\n",
              "        1254.93155589, 1283.23363307, 1279.87449038, 1256.96756324,\n",
              "        1272.88618761, 1286.12455135, 1317.64453421, 1296.04153201,\n",
              "        1275.47090573, 1254.74669512, 1267.74875107, 1258.32233334,\n",
              "        1227.27693979, 1216.54678685, 1223.38676328, 1226.63254974,\n",
              "        1202.74318179, 1205.6799861 , 1201.07443601, 1207.7568233 ,\n",
              "        1189.36388724, 1203.71535789, 1232.57843396, 1242.57954512,\n",
              "        1225.62376961, 1213.79268692, 1215.12882527, 1238.95137648,\n",
              "        1256.36941074, 1217.97419753, 1248.06581896, 1309.2016798 ,\n",
              "        1256.47007863, 1206.82881307, 1261.72815131, 1420.70741026,\n",
              "        1871.90624771, 2257.86294964, 1980.96542134, 2538.47681375,\n",
              "        3310.48104186, 3404.27449462, 3264.51065923, 3317.95143642,\n",
              "        3408.15472754, 3339.37031421, 3344.12754726, 3273.43463598,\n",
              "        3018.3991841 , 3044.44700626, 3177.16576696, 3267.85526453,\n",
              "        3396.38153933, 3258.38006383, 3164.26799009, 3216.15855263,\n",
              "        3343.56361166, 3392.45465735, 3420.86564549, 3458.13563459,\n",
              "        3450.51816925, 3322.37948699, 3405.57039141, 3434.86501139,\n",
              "        3360.7515397 , 3137.39747085, 3240.36266465, 3289.39799303,\n",
              "        3342.61484199, 3426.58650001, 3402.17726309, 3268.41303781,\n",
              "        3161.77237834, 3356.59513988, 3461.66598053, 3402.42783136,\n",
              "        3262.77552644, 3283.93931114, 3293.0034232 , 3262.44054313,\n",
              "        3315.75747334, 3381.83131695, 3288.21645107, 3373.8963069 ,\n",
              "        3278.27078916, 3316.21351717, 3381.26954831, 3421.51864041,\n",
              "        3396.30967065, 3412.85116064, 3270.72508315, 3286.75690656,\n",
              "        2975.48340745, 3047.02367088, 3381.87866694, 3356.43557276,\n",
              "        3343.49656749, 3368.8712277 , 3411.91792719, 3468.61129813,\n",
              "        3322.89610936, 3219.14500538, 3345.90425246]])"
            ]
          },
          "metadata": {},
          "execution_count": 70
        }
      ]
    },
    {
      "cell_type": "code",
      "source": [
        "#Spectral Rolloff\n",
        "librosa.feature.spectral_rolloff(y=y, sr=sr)"
      ],
      "metadata": {
        "colab": {
          "base_uri": "https://localhost:8080/"
        },
        "id": "sYEZyV_vA2Kw",
        "outputId": "ec28331a-4e39-43fa-fecb-b39b02217153"
      },
      "execution_count": 71,
      "outputs": [
        {
          "output_type": "execute_result",
          "data": {
            "text/plain": [
              "array([[9754.54101562, 7062.890625  , 6136.96289062, 6083.12988281,\n",
              "        6093.89648438, 6233.86230469, 6341.52832031, 6438.42773438,\n",
              "        6449.19433594, 6503.02734375, 6438.42773438, 6384.59472656,\n",
              "        6427.66113281, 6406.12792969, 6373.828125  , 6459.9609375 ,\n",
              "        6255.39550781, 5361.76757812, 4597.33886719, 3789.84375   ,\n",
              "        3606.81152344, 3552.97851562, 3865.20996094, 3682.17773438,\n",
              "        3186.9140625 , 2390.18554688, 1647.29003906, 1625.75683594,\n",
              "        1765.72265625, 2056.42089844, 2368.65234375, 2454.78515625,\n",
              "        2573.21777344, 2583.984375  , 2551.68457031, 2605.51757812,\n",
              "        2519.38476562, 2411.71875   , 2422.48535156, 2368.65234375,\n",
              "        2347.11914062, 2207.15332031, 1851.85546875, 1518.09082031,\n",
              "        1464.2578125 , 1485.79101562, 1819.55566406, 1722.65625   ,\n",
              "        1701.12304688, 1754.95605469, 1905.68847656, 1593.45703125,\n",
              "        1679.58984375, 1841.08886719, 1754.95605469, 1614.99023438,\n",
              "        1561.15722656, 1636.5234375 , 1571.92382812, 1658.05664062,\n",
              "        2336.35253906, 3908.27636719, 5232.56835938, 1065.89355469,\n",
              "        1238.15917969, 1744.18945312, 2142.55371094, 2196.38671875,\n",
              "        2207.15332031, 2196.38671875, 2174.85351562, 2304.05273438,\n",
              "        2099.48730469, 1851.85546875, 1593.45703125, 1507.32421875,\n",
              "        1475.02441406, 1442.72460938, 1324.29199219, 1453.49121094,\n",
              "        1431.95800781, 1647.29003906, 1841.08886719, 1625.75683594,\n",
              "        1722.65625   , 2271.75292969, 2540.91796875, 2530.15136719,\n",
              "        2659.35058594, 2799.31640625, 2680.88378906, 2583.984375  ,\n",
              "        2540.91796875, 2540.91796875, 2153.3203125 , 1948.75488281,\n",
              "        2207.15332031, 3843.67675781, 2530.15136719, 2077.95410156,\n",
              "        1464.2578125 , 1948.75488281, 2379.41894531, 2508.61816406,\n",
              "        2680.88378906, 2508.61816406, 1636.5234375 , 1722.65625   ,\n",
              "        1927.22167969, 2099.48730469, 1711.88964844, 1604.22363281,\n",
              "        1679.58984375, 1905.68847656, 2013.35449219, 1658.05664062,\n",
              "        1550.390625  , 1593.45703125, 1507.32421875, 1453.49121094,\n",
              "        1561.15722656, 1970.28808594, 1862.62207031, 1561.15722656,\n",
              "        1335.05859375, 1324.29199219, 1335.05859375, 1528.85742188,\n",
              "        1539.62402344, 1539.62402344, 1518.09082031, 1507.32421875,\n",
              "        3822.14355469, 5609.39941406, 5803.19824219, 5318.70117188,\n",
              "         947.4609375 ,  893.62792969, 1012.06054688, 1055.12695312,\n",
              "        1076.66015625, 1065.89355469, 1065.89355469, 1065.89355469,\n",
              "        1065.89355469, 1055.12695312, 1065.89355469, 1130.49316406,\n",
              "        2777.78320312, 5727.83203125, 5943.1640625 , 5512.5       ,\n",
              "        4801.90429688, 4672.70507812, 5006.46972656, 5146.43554688,\n",
              "        5673.99902344, 5620.16601562, 5727.83203125, 5900.09765625,\n",
              "        6018.53027344, 5953.93066406, 5889.33105469, 4618.87207031,\n",
              "        1658.05664062, 1055.12695312, 1033.59375   , 1065.89355469,\n",
              "        1044.36035156, 1044.36035156, 1033.59375   , 1022.82714844,\n",
              "        1022.82714844, 1022.82714844, 1033.59375   , 1291.9921875 ,\n",
              "        1614.99023438, 1701.12304688, 1754.95605469, 1571.92382812,\n",
              "        1518.09082031, 1625.75683594, 2099.48730469, 2196.38671875,\n",
              "        2196.38671875, 2228.68652344, 2271.75292969, 2239.453125  ,\n",
              "        2239.453125  , 2207.15332031, 2013.35449219, 1184.32617188,\n",
              "        1119.7265625 , 1173.55957031, 1431.95800781, 1399.65820312,\n",
              "        1431.95800781, 1550.390625  , 1636.5234375 , 1528.85742188,\n",
              "        1507.32421875, 1808.7890625 , 1604.22363281, 1507.32421875,\n",
              "        1431.95800781, 1302.75878906, 1356.59179688, 1248.92578125,\n",
              "        1324.29199219, 2928.515625  , 1216.62597656, 1539.62402344,\n",
              "        1636.5234375 , 1690.35644531, 1690.35644531, 1614.99023438,\n",
              "        1701.12304688, 1658.05664062, 1658.05664062, 1614.99023438,\n",
              "        1636.5234375 , 1647.29003906, 1539.62402344, 1550.390625  ,\n",
              "        1582.69042969, 1658.05664062, 1518.09082031, 1291.9921875 ,\n",
              "        1195.09277344, 1152.02636719, 1571.92382812, 1518.09082031,\n",
              "        1539.62402344, 1571.92382812, 1819.55566406, 2024.12109375,\n",
              "        1970.28808594, 2540.91796875, 2088.72070312, 2142.55371094,\n",
              "        2110.25390625, 2077.95410156, 1679.58984375, 1356.59179688,\n",
              "        1367.35839844, 1399.65820312, 2950.04882812, 4037.47558594,\n",
              "        1453.49121094, 1475.02441406, 1636.5234375 , 1625.75683594,\n",
              "        1453.49121094, 1410.42480469, 1475.02441406, 1507.32421875,\n",
              "        1550.390625  , 1561.15722656, 1561.15722656, 1539.62402344,\n",
              "        1561.15722656, 1550.390625  , 1496.55761719, 1496.55761719,\n",
              "        1518.09082031, 1528.85742188, 1561.15722656, 1604.22363281,\n",
              "        1571.92382812, 1507.32421875, 1539.62402344, 1539.62402344,\n",
              "        1421.19140625, 1367.35839844, 1475.02441406, 1518.09082031,\n",
              "        1571.92382812, 1507.32421875, 1507.32421875, 1507.32421875,\n",
              "        1475.02441406, 1475.02441406, 1442.72460938, 1421.19140625,\n",
              "        1475.02441406, 1485.79101562, 1431.95800781, 1464.2578125 ,\n",
              "        1421.19140625, 1507.32421875, 1658.05664062, 2551.68457031,\n",
              "        2067.1875    , 4209.74121094, 5717.06542969, 5932.39746094,\n",
              "        5835.49804688, 5910.86425781, 5964.69726562, 5867.79785156,\n",
              "        5964.69726562, 6190.79589844, 5932.39746094, 5383.30078125,\n",
              "        4834.20410156, 5469.43359375, 6104.66308594, 5695.53222656,\n",
              "        5361.76757812, 3477.61230469, 2982.34863281, 2670.1171875 ,\n",
              "        2637.81738281, 2616.28417969, 2583.984375  , 2562.45117188,\n",
              "        2583.984375  , 2562.45117188, 2551.68457031, 2551.68457031,\n",
              "        2540.91796875, 2540.91796875, 2508.61816406, 2476.31835938,\n",
              "        2411.71875   , 2390.18554688, 3994.40917969, 5867.79785156,\n",
              "        6201.5625    , 6212.32910156, 5964.69726562, 6093.89648438,\n",
              "        5727.83203125, 1388.89160156, 1087.42675781, 1173.55957031,\n",
              "        1421.19140625, 1539.62402344, 1582.69042969, 1205.859375  ,\n",
              "        1152.02636719, 1087.42675781, 1098.19335938, 1679.58984375,\n",
              "        1421.19140625, 1593.45703125, 1733.42285156, 1819.55566406,\n",
              "        1862.62207031, 1970.28808594, 1916.45507812, 1873.38867188,\n",
              "        1916.45507812, 1948.75488281, 1948.75488281, 1625.75683594,\n",
              "        1604.22363281, 1647.29003906, 1561.15722656, 1324.29199219,\n",
              "        1205.859375  , 1216.62597656, 2121.02050781, 2185.62011719,\n",
              "        2196.38671875, 2336.35253906, 2497.8515625 , 2390.18554688,\n",
              "        2099.48730469, 2196.38671875, 1959.52148438, 1884.15527344,\n",
              "        1604.22363281, 1464.2578125 , 1485.79101562, 1421.19140625,\n",
              "        1388.89160156, 1421.19140625, 2099.48730469, 3639.11132812,\n",
              "        4877.27050781, 1711.88964844, 1658.05664062, 1690.35644531,\n",
              "        1625.75683594, 1464.2578125 , 1313.52539062, 1238.15917969,\n",
              "        1238.15917969, 1571.92382812, 1991.82128906, 1927.22167969,\n",
              "        1894.921875  , 1658.05664062, 1345.82519531, 4317.40722656,\n",
              "        5512.5       , 1937.98828125, 1604.22363281, 1528.85742188,\n",
              "        1561.15722656, 1593.45703125, 1658.05664062, 1765.72265625,\n",
              "        1948.75488281, 2454.78515625, 2519.38476562, 1948.75488281,\n",
              "        1808.7890625 , 1808.7890625 , 1808.7890625 , 1798.02246094,\n",
              "        1798.02246094, 1830.32226562, 2314.81933594, 1722.65625   ,\n",
              "        1776.48925781, 2013.35449219, 1927.22167969, 1830.32226562,\n",
              "        1711.88964844, 1722.65625   , 1754.95605469, 1722.65625   ,\n",
              "        1754.95605469, 1754.95605469, 1776.48925781, 1808.7890625 ,\n",
              "        1862.62207031, 1841.08886719, 1830.32226562, 1787.25585938,\n",
              "        1894.921875  , 1959.52148438, 2002.58789062, 2056.42089844,\n",
              "        1884.15527344, 1862.62207031, 2034.88769531, 1754.95605469,\n",
              "        1636.5234375 , 1614.99023438, 1647.29003906, 1937.98828125,\n",
              "        1701.12304688, 1528.85742188, 1421.19140625, 1291.9921875 ,\n",
              "        1259.69238281, 1291.9921875 , 1313.52539062, 1356.59179688,\n",
              "        1981.0546875 , 5028.00292969, 3617.578125  ,  624.46289062,\n",
              "        1055.12695312, 1302.75878906, 1205.859375  , 1152.02636719,\n",
              "        1141.25976562, 1130.49316406, 1173.55957031, 1162.79296875,\n",
              "        1162.79296875, 1184.32617188, 1841.08886719, 5049.53613281,\n",
              "        6223.09570312, 6233.86230469, 6136.96289062, 6223.09570312,\n",
              "        6212.32910156, 6072.36328125, 5975.46386719, 6018.53027344,\n",
              "        5986.23046875, 6115.4296875 , 6126.19628906, 6244.62890625,\n",
              "        6287.6953125 , 6352.29492188, 6513.79394531, 6438.42773438,\n",
              "        6104.66308594, 4866.50390625, 3434.54589844, 1453.49121094,\n",
              "        1270.45898438, 1431.95800781, 1238.15917969, 1205.859375  ,\n",
              "        1044.36035156, 1022.82714844, 2863.91601562, 2002.58789062,\n",
              "        1518.09082031, 1528.85742188, 1561.15722656, 1571.92382812,\n",
              "        1550.390625  , 1464.2578125 , 1324.29199219, 1539.62402344,\n",
              "        1894.921875  , 2045.65429688, 2174.85351562, 1927.22167969,\n",
              "        1528.85742188, 1195.09277344, 1108.95996094, 1108.95996094,\n",
              "        1130.49316406, 1205.859375  , 1507.32421875, 1518.09082031,\n",
              "        1496.55761719, 1539.62402344, 1625.75683594, 1701.12304688,\n",
              "        2077.95410156, 1679.58984375, 1614.99023438, 1539.62402344,\n",
              "        1475.02441406, 1313.52539062, 1291.9921875 , 1453.49121094,\n",
              "        4651.171875  , 6018.53027344, 6201.5625    , 6363.06152344,\n",
              "        3897.50976562, 2034.88769531, 3940.57617188, 1959.52148438,\n",
              "        1399.65820312, 1496.55761719, 1507.32421875, 1507.32421875,\n",
              "        1518.09082031, 1496.55761719, 1582.69042969, 1604.22363281,\n",
              "        1561.15722656, 1496.55761719, 1442.72460938, 1281.22558594,\n",
              "        1647.29003906, 4984.93652344, 5792.43164062, 3240.74707031,\n",
              "        1539.62402344, 1528.85742188, 1550.390625  , 1550.390625  ,\n",
              "        1496.55761719, 1399.65820312, 1464.2578125 , 1464.2578125 ,\n",
              "        1464.2578125 , 1270.45898438, 1205.859375  , 1195.09277344,\n",
              "        1173.55957031, 1345.82519531, 4726.53808594, 4651.171875  ,\n",
              "        4931.10351562, 5749.36523438, 4371.24023438, 4984.93652344,\n",
              "        5038.76953125, 4231.27441406, 1647.29003906, 1561.15722656,\n",
              "        1593.45703125, 1604.22363281, 1507.32421875, 1431.95800781,\n",
              "        1442.72460938, 1431.95800781, 1485.79101562, 1485.79101562,\n",
              "        1475.02441406, 1561.15722656, 1539.62402344, 1475.02441406,\n",
              "        1507.32421875, 1528.85742188, 1561.15722656, 1550.390625  ,\n",
              "        1507.32421875, 1345.82519531, 1507.32421875, 1453.49121094,\n",
              "        1281.22558594, 1248.92578125, 1442.72460938, 1475.02441406,\n",
              "        1281.22558594, 1270.45898438, 1227.39257812, 1259.69238281,\n",
              "        1205.859375  , 1216.62597656, 1356.59179688, 1475.02441406,\n",
              "        1324.29199219, 1205.859375  , 1205.859375  , 1324.29199219,\n",
              "        1518.09082031, 1270.45898438, 1453.49121094, 1561.15722656,\n",
              "        1453.49121094, 1162.79296875, 1162.79296875, 1162.79296875,\n",
              "        3402.24609375, 4963.40332031, 4414.30664062, 5512.5       ,\n",
              "        6255.39550781, 6330.76171875, 6298.46191406, 6341.52832031,\n",
              "        6449.19433594, 6330.76171875, 6330.76171875, 6363.06152344,\n",
              "        5996.99707031, 5996.99707031, 6115.4296875 , 6233.86230469,\n",
              "        6363.06152344, 6190.79589844, 6180.02929688, 6266.16210938,\n",
              "        6244.62890625, 6298.46191406, 6384.59472656, 6298.46191406,\n",
              "        6481.49414062, 6427.66113281, 6352.29492188, 6330.76171875,\n",
              "        6244.62890625, 5996.99707031, 6147.72949219, 6147.72949219,\n",
              "        6309.22851562, 6406.12792969, 6373.828125  , 6276.92871094,\n",
              "        6266.16210938, 6341.52832031, 6352.29492188, 6319.99511719,\n",
              "        6298.46191406, 6309.22851562, 6158.49609375, 6244.62890625,\n",
              "        6395.36132812, 6449.19433594, 6309.22851562, 6104.66308594,\n",
              "        6169.26269531, 6287.6953125 , 6352.29492188, 6276.92871094,\n",
              "        6416.89453125, 6438.42773438, 6319.99511719, 6233.86230469,\n",
              "        6147.72949219, 6287.6953125 , 6384.59472656, 6276.92871094,\n",
              "        6287.6953125 , 6384.59472656, 6481.49414062, 6373.828125  ,\n",
              "        6126.19628906, 6158.49609375, 6373.828125  ]])"
            ]
          },
          "metadata": {},
          "execution_count": 71
        }
      ]
    },
    {
      "cell_type": "code",
      "source": [
        "#MFCC\n",
        "librosa.feature.mfcc(y=y, sr=sr)"
      ],
      "metadata": {
        "colab": {
          "base_uri": "https://localhost:8080/"
        },
        "id": "UVVXk-ngA8P7",
        "outputId": "89de37a0-3a54-41e9-a3be-a57ada511555"
      },
      "execution_count": 72,
      "outputs": [
        {
          "output_type": "execute_result",
          "data": {
            "text/plain": [
              "array([[-5.73890625e+02, -5.73890625e+02, -5.71185608e+02, ...,\n",
              "        -5.73890625e+02, -5.73874634e+02, -5.73890625e+02],\n",
              "       [ 0.00000000e+00,  0.00000000e+00,  3.04466534e+00, ...,\n",
              "         0.00000000e+00,  2.20025312e-02,  0.00000000e+00],\n",
              "       [ 0.00000000e+00,  0.00000000e+00,  2.12246084e+00, ...,\n",
              "         0.00000000e+00,  2.02006474e-02,  0.00000000e+00],\n",
              "       ...,\n",
              "       [ 0.00000000e+00,  0.00000000e+00, -2.12775826e+00, ...,\n",
              "         0.00000000e+00, -1.53915221e-02,  0.00000000e+00],\n",
              "       [ 0.00000000e+00,  0.00000000e+00, -2.17721009e+00, ...,\n",
              "         0.00000000e+00, -1.11470055e-02,  0.00000000e+00],\n",
              "       [ 0.00000000e+00,  0.00000000e+00, -1.14677548e+00, ...,\n",
              "         0.00000000e+00, -6.29868871e-03,  0.00000000e+00]], dtype=float32)"
            ]
          },
          "metadata": {},
          "execution_count": 72
        }
      ]
    },
    {
      "cell_type": "markdown",
      "source": [
        "# 9 Conclusions\n",
        "\n",
        "Normalisation: Scaling the features to a range of (-1, 1 ) showed major improvement in the accuracy.\n",
        "\n",
        "Feature Selection for supervised: Tempo feature included also helped in drastically improving the accuracy of the model implying that both Potter and Starwars can be distinguished based on the tempo.\n",
        "\n",
        "The best model was random forrest, it gave an validation accuracy of 0.37.\n",
        "\n",
        "The unsupervised K means algorithm did not work, It would require more study of audio features for appropriate feature selection in order to form correct clusters. "
      ],
      "metadata": {
        "id": "NaMY-7Y7A_yj"
      }
    }
  ]
}